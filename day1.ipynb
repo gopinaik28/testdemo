{
 "cells": [
  {
   "cell_type": "code",
   "execution_count": 1,
   "id": "ee3e5207",
   "metadata": {},
   "outputs": [
    {
     "name": "stdout",
     "output_type": "stream",
     "text": [
      "GOPI\n"
     ]
    }
   ],
   "source": [
    "#aim: to dispaly gopi\n",
    "#author: GOPI\n",
    "#date: 28/02/23\n",
    "print(\"GOPI\")"
   ]
  },
  {
   "cell_type": "code",
   "execution_count": 7,
   "id": "4058f367",
   "metadata": {},
   "outputs": [
    {
     "name": "stdout",
     "output_type": "stream",
     "text": [
      "30\n",
      "10 +20 =30\n"
     ]
    }
   ],
   "source": [
    "\n",
    "a=10\n",
    "b=20\n",
    "c=a+b\n",
    "print(c)\n",
    "print(\"{} +{} ={}\".format(a,b,c))\n"
   ]
  },
  {
   "cell_type": "code",
   "execution_count": 8,
   "id": "aaf96358",
   "metadata": {},
   "outputs": [
    {
     "name": "stdout",
     "output_type": "stream",
     "text": [
      "98.60000000000001\n"
     ]
    }
   ],
   "source": [
    "#aim: to dispaly degree c to degree f\n",
    "#author: GOPI\n",
    "#date: 28/02/23\n",
    "c=37\n",
    "f=((c/5)*9+32)\n",
    "print(f)"
   ]
  },
  {
   "cell_type": "code",
   "execution_count": 12,
   "id": "56e4c4f5",
   "metadata": {},
   "outputs": [
    {
     "name": "stdout",
     "output_type": "stream",
     "text": [
      "enter a value1\n",
      "enter b value2\n",
      "enter c value3\n",
      "enter d value4\n",
      "enter e value5\n",
      "15\n",
      "1 +2+3+4+5 =15\n"
     ]
    }
   ],
   "source": [
    "#aim: to dispaly sum of no using input statement\n",
    "#author: GOPI\n",
    "#date: 28/02/23\n",
    "a=int(input(\"enter a value\"))\n",
    "b=int(input(\"enter b value\"))\n",
    "c=int(input(\"enter c value\"))\n",
    "d=int(input(\"enter d value\"))\n",
    "e=int(input(\"enter e value\"))\n",
    "s=a+b+c+d+e\n",
    "print(s)\n",
    "print(\"{}+{}+{}+{}+{} ={}\".format(a,b,c,d,e,s))"
   ]
  },
  {
   "cell_type": "code",
   "execution_count": 13,
   "id": "d5c4dfcb",
   "metadata": {},
   "outputs": [
    {
     "name": "stdout",
     "output_type": "stream",
     "text": [
      "GOPI\n"
     ]
    }
   ],
   "source": [
    "#FUNCTIONS\n",
    "#aim: to dispaly gopi  using functions no argument and no return type\n",
    "#author: GOPI\n",
    "#date: 28/02/23\n",
    "\n",
    "#function defination\n",
    "def display():\n",
    "    print(\"GOPI\")\n",
    "#function call\n",
    "display()\n",
    "\n",
    "    \n"
   ]
  },
  {
   "cell_type": "code",
   "execution_count": 18,
   "id": "f4cc3d61",
   "metadata": {},
   "outputs": [
    {
     "name": "stdout",
     "output_type": "stream",
     "text": [
      "enter radiius3\n",
      "28.285714285714285\n"
     ]
    }
   ],
   "source": [
    "#aim: to dispaly area of cirlce  using functions no argument and no return type\n",
    "#author: GOPI\n",
    "#date: 28/02/23\n",
    "r=int(input(\"enter radiius\"))\n",
    "area=((22/7)*r*r)\n",
    "#area=round(a,3)\n",
    "def gopi():\n",
    "    print(area)\n",
    "gopi()"
   ]
  },
  {
   "cell_type": "code",
   "execution_count": 22,
   "id": "4987e377",
   "metadata": {},
   "outputs": [
    {
     "name": "stdout",
     "output_type": "stream",
     "text": [
      "enter a value1\n",
      "enter b value2\n",
      "enter c value3\n",
      "enter d value4\n",
      "enter e value5\n",
      "15\n"
     ]
    }
   ],
   "source": [
    "#aim: to dispaly sum of 5 numbers  using functions  argument and no return type\n",
    "#author: GOPI\n",
    "#date: 28/02/23\n",
    "a=int(input(\"enter a value\"))\n",
    "b=int(input(\"enter b value\"))\n",
    "c=int(input(\"enter c value\"))\n",
    "d=int(input(\"enter d value\"))\n",
    "e=int(input(\"enter e value\"))\n",
    "\n",
    "def add(a,b,c,d,e):\n",
    "    s=a+b+c+d+e\n",
    "    print(s)\n",
    "add(a,b,c,d,e)\n",
    "    "
   ]
  },
  {
   "cell_type": "code",
   "execution_count": 27,
   "id": "13e40ff8",
   "metadata": {},
   "outputs": [
    {
     "name": "stdout",
     "output_type": "stream",
     "text": [
      "enter priciple value1000\n",
      "enter time2\n",
      "enter rate1\n"
     ]
    },
    {
     "data": {
      "text/plain": [
       "20.0"
      ]
     },
     "execution_count": 27,
     "metadata": {},
     "output_type": "execute_result"
    }
   ],
   "source": [
    "#aim: to dispaly interest using functions  argument and return type\n",
    "#author: GOPI\n",
    "#date: 28/02/23\n",
    "p=int(input(\"enter priciple value\"))\n",
    "t=int(input(\"enter time\"))\n",
    "r=int(input(\"enter rate\"))\n",
    "def interest(p,t,r):\n",
    "    i=((p*t*r)/100)\n",
    "    return i\n",
    "interest(p,t,r)\n"
   ]
  },
  {
   "cell_type": "code",
   "execution_count": 30,
   "id": "ed62bd75",
   "metadata": {},
   "outputs": [
    {
     "name": "stdout",
     "output_type": "stream",
     "text": [
      "enter a value9\n",
      "enter b value5\n"
     ]
    },
    {
     "data": {
      "text/plain": [
       "(14, 4, 45, 1.8)"
      ]
     },
     "execution_count": 30,
     "metadata": {},
     "output_type": "execute_result"
    }
   ],
   "source": [
    "#aim: to dispaly operations of 2 numbers using functions  argument and return type\n",
    "#author: GOPI\n",
    "#date: 28/02/23\n",
    "a=int(input(\"enter a value\"))\n",
    "b=int(input(\"enter b value\"))\n",
    "def oper(a,b):\n",
    "    s=a+b\n",
    "    di=a-b\n",
    "    m=a*b\n",
    "    d=a/b\n",
    "    return s,di,m,d\n",
    "oper(a,b)"
   ]
  },
  {
   "cell_type": "code",
   "execution_count": 32,
   "id": "6dc31b7e",
   "metadata": {},
   "outputs": [
    {
     "data": {
      "text/plain": [
       "225.0"
      ]
     },
     "execution_count": 32,
     "metadata": {},
     "output_type": "execute_result"
    }
   ],
   "source": [
    "#aim: to dispaly distance using functions  no argument and return type\n",
    "#author: GOPI\n",
    "#date: 28/02/23\n",
    "def dist():\n",
    "    u=20\n",
    "    a=10\n",
    "    t=5\n",
    "    s=(u*t)+(0.5*a*t*t)\n",
    "    return s\n",
    "dist()"
   ]
  },
  {
   "cell_type": "code",
   "execution_count": null,
   "id": "94c5d045",
   "metadata": {},
   "outputs": [],
   "source": []
  }
 ],
 "metadata": {
  "kernelspec": {
   "display_name": "Python 3 (ipykernel)",
   "language": "python",
   "name": "python3"
  },
  "language_info": {
   "codemirror_mode": {
    "name": "ipython",
    "version": 3
   },
   "file_extension": ".py",
   "mimetype": "text/x-python",
   "name": "python",
   "nbconvert_exporter": "python",
   "pygments_lexer": "ipython3",
   "version": "3.9.12"
  }
 },
 "nbformat": 4,
 "nbformat_minor": 5
}
