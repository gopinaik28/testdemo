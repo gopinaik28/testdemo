{
 "cells": [
  {
   "cell_type": "code",
   "execution_count": 6,
   "id": "070ebc45",
   "metadata": {},
   "outputs": [
    {
     "name": "stdout",
     "output_type": "stream",
     "text": [
      "enter no 2\n",
      "enter no 3\n",
      "enter no 3\n",
      "2+3+20=25\n"
     ]
    }
   ],
   "source": [
    "#aim: to dispaly sum of 3 no`s using default arg\n",
    "#author: GOPI\n",
    "#date: 14/03/23\n",
    "a=int(input(\"enter no \"))\n",
    "b=int(input(\"enter no \"))\n",
    "c=int(input(\"enter no \"))\n",
    "def add(a,b,c=20):\n",
    "    s=a+b+c\n",
    "    print('{}+{}+{}={}'.format(a,b,c,s))\n",
    "add(a,b)"
   ]
  },
  {
   "cell_type": "code",
   "execution_count": 8,
   "id": "4280600a",
   "metadata": {},
   "outputs": [
    {
     "name": "stdout",
     "output_type": "stream",
     "text": [
      "enter no 2\n",
      "enter no 2\n",
      "enter no 2\n",
      "12+1+1=14\n"
     ]
    }
   ],
   "source": [
    "#aim: to dispaly sum of 3 no`s using  two args as default arg\n",
    "#author: GOPI\n",
    "#date: 14/03/23\n",
    "a=int(input(\"enter no \"))\n",
    "b=int(input(\"enter no \"))\n",
    "c=int(input(\"enter no \"))\n",
    "def add(a=12,b=1,c=1):\n",
    "    s=a+b+c\n",
    "    print('{}+{}+{}={}'.format(a,b,c,s))\n",
    "add()\n",
    "#NOTE : store abt default arg"
   ]
  },
  {
   "cell_type": "code",
   "execution_count": 9,
   "id": "ec76bd80",
   "metadata": {},
   "outputs": [
    {
     "name": "stdout",
     "output_type": "stream",
     "text": [
      "1+10+2=13\n"
     ]
    }
   ],
   "source": [
    "#aim: to dispaly sum of 3 no`s using  postional arg\n",
    "#author: GOPI\n",
    "#date: 14/03/23\n",
    "def add(a,b,c):\n",
    "    s=a+b+c\n",
    "    print('{}+{}+{}={}'.format(a,b,c,s))\n",
    "add(b=10,c=2,a=1)"
   ]
  },
  {
   "cell_type": "code",
   "execution_count": 10,
   "id": "264ea609",
   "metadata": {},
   "outputs": [
    {
     "name": "stdout",
     "output_type": "stream",
     "text": [
      "10 20 30 40 "
     ]
    }
   ],
   "source": [
    "#aim: to dispaly arbitary args\n",
    "#author: GOPI\n",
    "#date: 14/03/23\n",
    "def demo(*data):\n",
    "    for x in data:\n",
    "        print(x,end=' ')\n",
    "demo(10,20,30,40)"
   ]
  },
  {
   "cell_type": "code",
   "execution_count": 12,
   "id": "423b47b5",
   "metadata": {},
   "outputs": [
    {
     "name": "stdout",
     "output_type": "stream",
     "text": [
      "10 20 30 40 \n",
      "\n",
      "30 40 50 60 70 \n",
      "\n",
      "helo gopi "
     ]
    }
   ],
   "source": [
    "def demo(*data):\n",
    "    for x in data:\n",
    "        print(x,end=' ')\n",
    "demo(10,20,30,40)\n",
    "print(\"\\n\")\n",
    "demo(30,40,50,60,70)\n",
    "print(\"\\n\")\n",
    "demo('helo','gopi')"
   ]
  },
  {
   "cell_type": "code",
   "execution_count": 24,
   "id": "e80e0e0b",
   "metadata": {},
   "outputs": [
    {
     "name": "stdout",
     "output_type": "stream",
     "text": [
      "i am in constructor\n"
     ]
    }
   ],
   "source": [
    "class Demo:\n",
    "    def __init__(self): #constructor\n",
    "        print(\"i am in constructor\");\n",
    "d=Demo()#intialzise object\n",
    "\n"
   ]
  },
  {
   "cell_type": "code",
   "execution_count": 30,
   "id": "a800fe86",
   "metadata": {},
   "outputs": [
    {
     "name": "stdout",
     "output_type": "stream",
     "text": [
      "enter no2\n",
      "enter no3\n",
      "5\n"
     ]
    }
   ],
   "source": [
    "#aim: to dispaly sum of 2 no`s using  class and objects\n",
    "#author: GOPI\n",
    "#date: 14/03/23\n",
    "class AddTest():\n",
    "    def __init__(self):\n",
    "        pass\n",
    "    def input(self):\n",
    "        self.a=int(input(\"enter no\"))\n",
    "        self.b=int(input(\"enter no\"))\n",
    "    def process(self):\n",
    "        self.c=self.a+self.b\n",
    "    def output(self):\n",
    "         print('{}+{}={}'.format(self.a,self.b,self.c)\n",
    "#intialzise object        \n",
    "obj=AddTest()\n",
    "obj.input()\n",
    "obj.process()\n",
    "obj.output()\n",
    "\n",
    "        "
   ]
  },
  {
   "cell_type": "code",
   "execution_count": 11,
   "id": "2356d18b",
   "metadata": {},
   "outputs": [
    {
     "name": "stdout",
     "output_type": "stream",
     "text": [
      "enter no11\n",
      "enter no11\n",
      "11+11=22\n"
     ]
    }
   ],
   "source": [
    "#aim: to dispaly sum of 2 no`s using  parameterized constructor\n",
    "#author: GOPI\n",
    "#date: 14/03/23\n",
    "class AddNo:\n",
    "    def __init__(self,a,b):\n",
    "        self.a=a\n",
    "        self.b=b\n",
    "    def process(self):\n",
    "        self.c=self.a+self.b\n",
    "    def output(self):\n",
    "        print('{}+{}={}'.format(self.a,self.b,self.c))\n",
    "              \n",
    "a=int(input(\"enter no\"))\n",
    "b=int(input(\"enter no\"))\n",
    "obj=AddNo(a,b)\n",
    "obj.process()\n",
    "obj.output()"
   ]
  },
  {
   "cell_type": "code",
   "execution_count": 12,
   "id": "f0d25142",
   "metadata": {},
   "outputs": [
    {
     "name": "stdout",
     "output_type": "stream",
     "text": [
      "enter principle 1000\n",
      "enter time 2\n",
      "enter rate 5\n",
      "100.0\n"
     ]
    }
   ],
   "source": [
    "#aim: to dispaly intrest using  class and objects use parameter constructer\n",
    "#author: GOPI\n",
    "#date: 14/03/23\n",
    "class Intrest:\n",
    "    def __init__(self,p,t,r):\n",
    "        self.p=p\n",
    "        self.t=t\n",
    "        self.r=r\n",
    "    def process(self):\n",
    "        self.i=((self.p*self.t*self.r)/100)\n",
    "    def output(self):\n",
    "        print(self.i)\n",
    "p=int(input(\"enter principle \"))\n",
    "t=int(input(\"enter time \"))\n",
    "r=int(input(\"enter rate \"))\n",
    "obj=Intrest(p,t,r)\n",
    "obj.process()\n",
    "obj.output()\n",
    "\n",
    "    "
   ]
  },
  {
   "cell_type": "code",
   "execution_count": 27,
   "id": "f59c6202",
   "metadata": {},
   "outputs": [
    {
     "name": "stdout",
     "output_type": "stream",
     "text": [
      "enter percentage50\n",
      "job\n"
     ]
    }
   ],
   "source": [
    "#aim: to dispaly percentage  class and objects \n",
    "#author: GOPI\n",
    "#date: 14/03/23\n",
    "class Percentage():\n",
    "    def __init__(self,p):\n",
    "        self.p=p\n",
    "    def process(self):\n",
    "        if self.p>=70:\n",
    "            print(\"phD\")\n",
    "        print(\"job\")\n",
    "    \n",
    "p=int(input(\"enter percentage\"))\n",
    "obj=Percentage(p)\n",
    "obj.process()\n",
    "\n",
    "        "
   ]
  },
  {
   "cell_type": "code",
   "execution_count": 29,
   "id": "d54c045b",
   "metadata": {},
   "outputs": [
    {
     "name": "stdout",
     "output_type": "stream",
     "text": [
      "enter  amount 500\n",
      "idly\n",
      "dosa\n",
      "vada\n",
      "puri\n",
      "milk\n",
      "class\n"
     ]
    }
   ],
   "source": [
    "#aim: to dispaly amount  and to go class using  class and objects \n",
    "#author: GOPI\n",
    "#date: 14/03/23\n",
    "class Amount():\n",
    "    def __init__(self,a):\n",
    "        self.a=a\n",
    "    def process(self):\n",
    "        if self.a>=300:\n",
    "            print(\"idly\")\n",
    "            print(\"dosa\")\n",
    "            print(\"vada\")\n",
    "            print(\"puri\")\n",
    "        print(\"milk\")\n",
    "        print(\"class\")\n",
    "a=int(input(\"enter  amount \"))\n",
    "obj=Amount(a)\n",
    "obj.process()"
   ]
  },
  {
   "cell_type": "code",
   "execution_count": 31,
   "id": "1ee6a760",
   "metadata": {},
   "outputs": [
    {
     "name": "stdout",
     "output_type": "stream",
     "text": [
      "enter temp60\n",
      "caroom tt\n",
      "water\n",
      "home\n"
     ]
    }
   ],
   "source": [
    "class temp():\n",
    "    def __init__(self,t):\n",
    "        self.t=t\n",
    "    def process(self):\n",
    "        if self.t>=50:\n",
    "            print(\"caroom\",\"tt\")\n",
    "        print(\"water\")\n",
    "        print(\"home\")\n",
    "t=int(input(\"enter temp\"))\n",
    "obj=temp(t)\n",
    "obj.process()"
   ]
  },
  {
   "cell_type": "code",
   "execution_count": null,
   "id": "d2485f6b",
   "metadata": {},
   "outputs": [],
   "source": []
  }
 ],
 "metadata": {
  "kernelspec": {
   "display_name": "Python 3 (ipykernel)",
   "language": "python",
   "name": "python3"
  },
  "language_info": {
   "codemirror_mode": {
    "name": "ipython",
    "version": 3
   },
   "file_extension": ".py",
   "mimetype": "text/x-python",
   "name": "python",
   "nbconvert_exporter": "python",
   "pygments_lexer": "ipython3",
   "version": "3.9.12"
  }
 },
 "nbformat": 4,
 "nbformat_minor": 5
}
